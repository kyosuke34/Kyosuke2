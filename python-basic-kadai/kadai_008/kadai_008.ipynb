{
 "cells": [
  {
   "cell_type": "code",
   "execution_count": 167,
   "metadata": {},
   "outputs": [
    {
     "name": "stdout",
     "output_type": "stream",
     "text": [
      "45\n",
      "FizzBuzz\n"
     ]
    }
   ],
   "source": [
    "import random\n",
    "var = random.randint(0, 50)\n",
    "\n",
    "print(var)\n",
    "\n",
    "if var % 3 == 0 and var % 5 == 0:\n",
    "    print(\"FizzBuzz\")\n",
    "elif var % 3 == 0:\n",
    "    print(\"Fizz\")\n",
    "elif var % 5 == 0:\n",
    "    print(\"Buzz\")\n",
    "else:\n",
    "    print(var)"
   ]
  }
 ],
 "metadata": {
  "kernelspec": {
   "display_name": "Python 3",
   "language": "python",
   "name": "python3"
  },
  "language_info": {
   "codemirror_mode": {
    "name": "ipython",
    "version": 3
   },
   "file_extension": ".py",
   "mimetype": "text/x-python",
   "name": "python",
   "nbconvert_exporter": "python",
   "pygments_lexer": "ipython3",
   "version": "3.12.5"
  }
 },
 "nbformat": 4,
 "nbformat_minor": 2
}
