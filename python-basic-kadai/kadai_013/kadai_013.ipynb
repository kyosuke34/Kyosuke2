{
 "cells": [
  {
   "cell_type": "code",
   "execution_count": 13,
   "metadata": {},
   "outputs": [
    {
     "name": "stdout",
     "output_type": "stream",
     "text": [
      "合計金額は 110 円です。\n",
      "消費税は 10 円です。\n"
     ]
    }
   ],
   "source": [
    "\n",
    "def total_price1(price,tax):\n",
    "    total_price = price + price * tax\n",
    "    return total_price\n",
    "def tax_price1(price,tax):\n",
    "    tax_price = price * tax\n",
    "    return tax_price\n",
    "\n",
    "price = 100\n",
    "tax = 0.1\n",
    "\n",
    "# ここまでが関数\n",
    "\n",
    "total_price = total_price1(price,tax)\n",
    "tax_price = tax_price1(price,tax)\n",
    "print(\"合計金額は\",int(total_price),\"円です。\")\n",
    "print(\"消費税は\",int(tax_price),\"円です。\")"
   ]
  }
 ],
 "metadata": {
  "kernelspec": {
   "display_name": "Python 3",
   "language": "python",
   "name": "python3"
  },
  "language_info": {
   "codemirror_mode": {
    "name": "ipython",
    "version": 3
   },
   "file_extension": ".py",
   "mimetype": "text/x-python",
   "name": "python",
   "nbconvert_exporter": "python",
   "pygments_lexer": "ipython3",
   "version": "3.12.5"
  }
 },
 "nbformat": 4,
 "nbformat_minor": 2
}
