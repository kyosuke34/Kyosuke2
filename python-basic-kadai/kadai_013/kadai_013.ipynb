{
 "cells": [
  {
   "cell_type": "code",
   "execution_count": 7,
   "metadata": {},
   "outputs": [
    {
     "name": "stdout",
     "output_type": "stream",
     "text": [
      "<function value at 0x0000017342DEC680>\n"
     ]
    }
   ],
   "source": [
    "price = 100\n",
    "tax = 10\n",
    "\n",
    "def value(price,tax):\n",
    "    totalprice = price * tax / 100\n",
    "    print(totalprice)\n",
    "    return totalprice\n",
    "\n",
    "print(value(price,tax))"
   ]
  }
 ],
 "metadata": {
  "kernelspec": {
   "display_name": "Python 3",
   "language": "python",
   "name": "python3"
  },
  "language_info": {
   "codemirror_mode": {
    "name": "ipython",
    "version": 3
   },
   "file_extension": ".py",
   "mimetype": "text/x-python",
   "name": "python",
   "nbconvert_exporter": "python",
   "pygments_lexer": "ipython3",
   "version": "3.12.5"
  }
 },
 "nbformat": 4,
 "nbformat_minor": 2
}
