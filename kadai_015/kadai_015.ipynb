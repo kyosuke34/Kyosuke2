{
 "cells": [
  {
   "cell_type": "code",
   "execution_count": 12,
   "metadata": {},
   "outputs": [
    {
     "name": "stdout",
     "output_type": "stream",
     "text": [
      "侍太郎36\n"
     ]
    }
   ],
   "source": [
    "class Human:\n",
    "    def __init__(self,name,age):\n",
    "         self.name = name\n",
    "         self.age = age\n",
    "\n",
    "    def get_name(self,name):\n",
    "        self.name = name\n",
    "\n",
    "    def get_age(self,age):\n",
    "        self.age = age\n",
    "\n",
    "    def print_info(self):\n",
    "        print(self.name + str(self.age))\n",
    "\n",
    "human = Human(\"侍太郎\",36)\n",
    "human.print_info()\n"
   ]
  }
 ],
 "metadata": {
  "kernelspec": {
   "display_name": "Python 3",
   "language": "python",
   "name": "python3"
  },
  "language_info": {
   "codemirror_mode": {
    "name": "ipython",
    "version": 3
   },
   "file_extension": ".py",
   "mimetype": "text/x-python",
   "name": "python",
   "nbconvert_exporter": "python",
   "pygments_lexer": "ipython3",
   "version": "3.12.5"
  }
 },
 "nbformat": 4,
 "nbformat_minor": 2
}
