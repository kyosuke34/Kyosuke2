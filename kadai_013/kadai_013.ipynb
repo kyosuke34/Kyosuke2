{
 "cells": [
  {
   "cell_type": "code",
   "execution_count": null,
   "metadata": {},
   "outputs": [],
   "source": [
    "def total_price(money):\n",
    "    price = money + 500\n",
    "    print(price)\n",
    "\n",
    "total_price(1000)"
   ]
  }
 ],
 "metadata": {
  "language_info": {
   "name": "python"
  }
 },
 "nbformat": 4,
 "nbformat_minor": 2
}
